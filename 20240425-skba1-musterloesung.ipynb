{
 "cells": [
  {
   "cell_type": "markdown",
   "metadata": {},
   "source": [
    "# 1. Vorbereitung und Datenimport"
   ]
  },
  {
   "cell_type": "code",
   "metadata": {
    "ExecuteTime": {
     "end_time": "2024-04-26T14:45:51.786686Z",
     "start_time": "2024-04-26T14:45:51.774680Z"
    }
   },
   "source": [
    "%matplotlib inline\n",
    "import pandas as pd\n",
    "import numpy as np\n",
    "from matplotlib import pyplot as plt\n",
    "plt.rc('font', **{'family': 'Arial', 'size': 14})"
   ],
   "outputs": [],
   "execution_count": 9
  },
  {
   "cell_type": "code",
   "metadata": {
    "ExecuteTime": {
     "end_time": "2024-04-26T14:45:40.935627Z",
     "start_time": "2024-04-26T14:45:40.917046Z"
    }
   },
   "source": [
    "grossstaedte = pd.read_csv(\"20240418-skba1-grossstaedte-deutschland-wikipedia.csv\", sep = \";\", header = [0, 1], decimal = \",\")\n",
    "grossstaedte.head()"
   ],
   "outputs": [
    {
     "data": {
      "text/plain": [
       "  Rang (2019)               Name Einwohnerzahl                             \\\n",
       "  Rang (2019)               Name          1939     1950     1960     1970   \n",
       "0           1             Berlin       4321521  3336026  3274016  3208719   \n",
       "1           2            Hamburg       1698388  1605606  1836958  1793640   \n",
       "2           3            München        815212   831937  1101384  1311978   \n",
       "3           4               Köln        768352   594941   801142   849451   \n",
       "4           5  Frankfurt am Main        548220   532037   675009   666179   \n",
       "\n",
       "                                                        Fläche in km² (2016)  \\\n",
       "      1980     1990     2000     2010     2018     2019 Fläche in km² (2016)   \n",
       "0  3048759  3433695  3382169  3460725  3644826  3669491               891.68   \n",
       "1  1645095  1652363  1715392  1786448  1841179  1847253               755.22   \n",
       "2  1298941  1229026  1210223  1353186  1471508  1484226               310.70   \n",
       "3   976694   953551   962884  1007119  1085664  1087863               405.02   \n",
       "4   629375   644865   648550   679664   753056   763380               248.31   \n",
       "\n",
       "  Ew./km² (2018) Großstadt erstmals           Bundesland  \n",
       "  Ew./km² (2018) Großstadt erstmals           Bundesland  \n",
       "0           4088               1747               Berlin  \n",
       "1           2438               1787              Hamburg  \n",
       "2           4736               1852               Bayern  \n",
       "3           2681               1852  Nordrhein-Westfalen  \n",
       "4           3033               1875               Hessen  "
      ],
      "text/html": [
       "<div>\n",
       "<style scoped>\n",
       "    .dataframe tbody tr th:only-of-type {\n",
       "        vertical-align: middle;\n",
       "    }\n",
       "\n",
       "    .dataframe tbody tr th {\n",
       "        vertical-align: top;\n",
       "    }\n",
       "\n",
       "    .dataframe thead tr th {\n",
       "        text-align: left;\n",
       "    }\n",
       "</style>\n",
       "<table border=\"1\" class=\"dataframe\">\n",
       "  <thead>\n",
       "    <tr>\n",
       "      <th></th>\n",
       "      <th>Rang (2019)</th>\n",
       "      <th>Name</th>\n",
       "      <th colspan=\"10\" halign=\"left\">Einwohnerzahl</th>\n",
       "      <th>Fläche in km² (2016)</th>\n",
       "      <th>Ew./km² (2018)</th>\n",
       "      <th>Großstadt erstmals</th>\n",
       "      <th>Bundesland</th>\n",
       "    </tr>\n",
       "    <tr>\n",
       "      <th></th>\n",
       "      <th>Rang (2019)</th>\n",
       "      <th>Name</th>\n",
       "      <th>1939</th>\n",
       "      <th>1950</th>\n",
       "      <th>1960</th>\n",
       "      <th>1970</th>\n",
       "      <th>1980</th>\n",
       "      <th>1990</th>\n",
       "      <th>2000</th>\n",
       "      <th>2010</th>\n",
       "      <th>2018</th>\n",
       "      <th>2019</th>\n",
       "      <th>Fläche in km² (2016)</th>\n",
       "      <th>Ew./km² (2018)</th>\n",
       "      <th>Großstadt erstmals</th>\n",
       "      <th>Bundesland</th>\n",
       "    </tr>\n",
       "  </thead>\n",
       "  <tbody>\n",
       "    <tr>\n",
       "      <th>0</th>\n",
       "      <td>1</td>\n",
       "      <td>Berlin</td>\n",
       "      <td>4321521</td>\n",
       "      <td>3336026</td>\n",
       "      <td>3274016</td>\n",
       "      <td>3208719</td>\n",
       "      <td>3048759</td>\n",
       "      <td>3433695</td>\n",
       "      <td>3382169</td>\n",
       "      <td>3460725</td>\n",
       "      <td>3644826</td>\n",
       "      <td>3669491</td>\n",
       "      <td>891.68</td>\n",
       "      <td>4088</td>\n",
       "      <td>1747</td>\n",
       "      <td>Berlin</td>\n",
       "    </tr>\n",
       "    <tr>\n",
       "      <th>1</th>\n",
       "      <td>2</td>\n",
       "      <td>Hamburg</td>\n",
       "      <td>1698388</td>\n",
       "      <td>1605606</td>\n",
       "      <td>1836958</td>\n",
       "      <td>1793640</td>\n",
       "      <td>1645095</td>\n",
       "      <td>1652363</td>\n",
       "      <td>1715392</td>\n",
       "      <td>1786448</td>\n",
       "      <td>1841179</td>\n",
       "      <td>1847253</td>\n",
       "      <td>755.22</td>\n",
       "      <td>2438</td>\n",
       "      <td>1787</td>\n",
       "      <td>Hamburg</td>\n",
       "    </tr>\n",
       "    <tr>\n",
       "      <th>2</th>\n",
       "      <td>3</td>\n",
       "      <td>München</td>\n",
       "      <td>815212</td>\n",
       "      <td>831937</td>\n",
       "      <td>1101384</td>\n",
       "      <td>1311978</td>\n",
       "      <td>1298941</td>\n",
       "      <td>1229026</td>\n",
       "      <td>1210223</td>\n",
       "      <td>1353186</td>\n",
       "      <td>1471508</td>\n",
       "      <td>1484226</td>\n",
       "      <td>310.70</td>\n",
       "      <td>4736</td>\n",
       "      <td>1852</td>\n",
       "      <td>Bayern</td>\n",
       "    </tr>\n",
       "    <tr>\n",
       "      <th>3</th>\n",
       "      <td>4</td>\n",
       "      <td>Köln</td>\n",
       "      <td>768352</td>\n",
       "      <td>594941</td>\n",
       "      <td>801142</td>\n",
       "      <td>849451</td>\n",
       "      <td>976694</td>\n",
       "      <td>953551</td>\n",
       "      <td>962884</td>\n",
       "      <td>1007119</td>\n",
       "      <td>1085664</td>\n",
       "      <td>1087863</td>\n",
       "      <td>405.02</td>\n",
       "      <td>2681</td>\n",
       "      <td>1852</td>\n",
       "      <td>Nordrhein-Westfalen</td>\n",
       "    </tr>\n",
       "    <tr>\n",
       "      <th>4</th>\n",
       "      <td>5</td>\n",
       "      <td>Frankfurt am Main</td>\n",
       "      <td>548220</td>\n",
       "      <td>532037</td>\n",
       "      <td>675009</td>\n",
       "      <td>666179</td>\n",
       "      <td>629375</td>\n",
       "      <td>644865</td>\n",
       "      <td>648550</td>\n",
       "      <td>679664</td>\n",
       "      <td>753056</td>\n",
       "      <td>763380</td>\n",
       "      <td>248.31</td>\n",
       "      <td>3033</td>\n",
       "      <td>1875</td>\n",
       "      <td>Hessen</td>\n",
       "    </tr>\n",
       "  </tbody>\n",
       "</table>\n",
       "</div>"
      ]
     },
     "execution_count": 4,
     "metadata": {},
     "output_type": "execute_result"
    }
   ],
   "execution_count": 4
  },
  {
   "cell_type": "code",
   "metadata": {
    "ExecuteTime": {
     "end_time": "2024-04-26T14:45:42.489960Z",
     "start_time": "2024-04-26T14:45:42.480454Z"
    }
   },
   "source": [
    "neue_spalten = ['rang_2019', 'name', 'ew_1939', 'ew_1950', 'ew_1960', 'ew_1970', 'ew_1980', 'ew_1990', 'ew_2000', 'ew_2010', 'ew_2018', 'ew_2019', 'flaeche_qkm', 'ew_qkm', 'gs_erstmals', 'bundesland']\n",
    "grossstaedte.columns = neue_spalten\n",
    "grossstaedte.head()"
   ],
   "outputs": [
    {
     "data": {
      "text/plain": [
       "   rang_2019               name  ew_1939  ew_1950  ew_1960  ew_1970  ew_1980  \\\n",
       "0          1             Berlin  4321521  3336026  3274016  3208719  3048759   \n",
       "1          2            Hamburg  1698388  1605606  1836958  1793640  1645095   \n",
       "2          3            München   815212   831937  1101384  1311978  1298941   \n",
       "3          4               Köln   768352   594941   801142   849451   976694   \n",
       "4          5  Frankfurt am Main   548220   532037   675009   666179   629375   \n",
       "\n",
       "   ew_1990  ew_2000  ew_2010  ew_2018  ew_2019  flaeche_qkm  ew_qkm  \\\n",
       "0  3433695  3382169  3460725  3644826  3669491       891.68    4088   \n",
       "1  1652363  1715392  1786448  1841179  1847253       755.22    2438   \n",
       "2  1229026  1210223  1353186  1471508  1484226       310.70    4736   \n",
       "3   953551   962884  1007119  1085664  1087863       405.02    2681   \n",
       "4   644865   648550   679664   753056   763380       248.31    3033   \n",
       "\n",
       "   gs_erstmals           bundesland  \n",
       "0         1747               Berlin  \n",
       "1         1787              Hamburg  \n",
       "2         1852               Bayern  \n",
       "3         1852  Nordrhein-Westfalen  \n",
       "4         1875               Hessen  "
      ],
      "text/html": [
       "<div>\n",
       "<style scoped>\n",
       "    .dataframe tbody tr th:only-of-type {\n",
       "        vertical-align: middle;\n",
       "    }\n",
       "\n",
       "    .dataframe tbody tr th {\n",
       "        vertical-align: top;\n",
       "    }\n",
       "\n",
       "    .dataframe thead th {\n",
       "        text-align: right;\n",
       "    }\n",
       "</style>\n",
       "<table border=\"1\" class=\"dataframe\">\n",
       "  <thead>\n",
       "    <tr style=\"text-align: right;\">\n",
       "      <th></th>\n",
       "      <th>rang_2019</th>\n",
       "      <th>name</th>\n",
       "      <th>ew_1939</th>\n",
       "      <th>ew_1950</th>\n",
       "      <th>ew_1960</th>\n",
       "      <th>ew_1970</th>\n",
       "      <th>ew_1980</th>\n",
       "      <th>ew_1990</th>\n",
       "      <th>ew_2000</th>\n",
       "      <th>ew_2010</th>\n",
       "      <th>ew_2018</th>\n",
       "      <th>ew_2019</th>\n",
       "      <th>flaeche_qkm</th>\n",
       "      <th>ew_qkm</th>\n",
       "      <th>gs_erstmals</th>\n",
       "      <th>bundesland</th>\n",
       "    </tr>\n",
       "  </thead>\n",
       "  <tbody>\n",
       "    <tr>\n",
       "      <th>0</th>\n",
       "      <td>1</td>\n",
       "      <td>Berlin</td>\n",
       "      <td>4321521</td>\n",
       "      <td>3336026</td>\n",
       "      <td>3274016</td>\n",
       "      <td>3208719</td>\n",
       "      <td>3048759</td>\n",
       "      <td>3433695</td>\n",
       "      <td>3382169</td>\n",
       "      <td>3460725</td>\n",
       "      <td>3644826</td>\n",
       "      <td>3669491</td>\n",
       "      <td>891.68</td>\n",
       "      <td>4088</td>\n",
       "      <td>1747</td>\n",
       "      <td>Berlin</td>\n",
       "    </tr>\n",
       "    <tr>\n",
       "      <th>1</th>\n",
       "      <td>2</td>\n",
       "      <td>Hamburg</td>\n",
       "      <td>1698388</td>\n",
       "      <td>1605606</td>\n",
       "      <td>1836958</td>\n",
       "      <td>1793640</td>\n",
       "      <td>1645095</td>\n",
       "      <td>1652363</td>\n",
       "      <td>1715392</td>\n",
       "      <td>1786448</td>\n",
       "      <td>1841179</td>\n",
       "      <td>1847253</td>\n",
       "      <td>755.22</td>\n",
       "      <td>2438</td>\n",
       "      <td>1787</td>\n",
       "      <td>Hamburg</td>\n",
       "    </tr>\n",
       "    <tr>\n",
       "      <th>2</th>\n",
       "      <td>3</td>\n",
       "      <td>München</td>\n",
       "      <td>815212</td>\n",
       "      <td>831937</td>\n",
       "      <td>1101384</td>\n",
       "      <td>1311978</td>\n",
       "      <td>1298941</td>\n",
       "      <td>1229026</td>\n",
       "      <td>1210223</td>\n",
       "      <td>1353186</td>\n",
       "      <td>1471508</td>\n",
       "      <td>1484226</td>\n",
       "      <td>310.70</td>\n",
       "      <td>4736</td>\n",
       "      <td>1852</td>\n",
       "      <td>Bayern</td>\n",
       "    </tr>\n",
       "    <tr>\n",
       "      <th>3</th>\n",
       "      <td>4</td>\n",
       "      <td>Köln</td>\n",
       "      <td>768352</td>\n",
       "      <td>594941</td>\n",
       "      <td>801142</td>\n",
       "      <td>849451</td>\n",
       "      <td>976694</td>\n",
       "      <td>953551</td>\n",
       "      <td>962884</td>\n",
       "      <td>1007119</td>\n",
       "      <td>1085664</td>\n",
       "      <td>1087863</td>\n",
       "      <td>405.02</td>\n",
       "      <td>2681</td>\n",
       "      <td>1852</td>\n",
       "      <td>Nordrhein-Westfalen</td>\n",
       "    </tr>\n",
       "    <tr>\n",
       "      <th>4</th>\n",
       "      <td>5</td>\n",
       "      <td>Frankfurt am Main</td>\n",
       "      <td>548220</td>\n",
       "      <td>532037</td>\n",
       "      <td>675009</td>\n",
       "      <td>666179</td>\n",
       "      <td>629375</td>\n",
       "      <td>644865</td>\n",
       "      <td>648550</td>\n",
       "      <td>679664</td>\n",
       "      <td>753056</td>\n",
       "      <td>763380</td>\n",
       "      <td>248.31</td>\n",
       "      <td>3033</td>\n",
       "      <td>1875</td>\n",
       "      <td>Hessen</td>\n",
       "    </tr>\n",
       "  </tbody>\n",
       "</table>\n",
       "</div>"
      ]
     },
     "execution_count": 5,
     "metadata": {},
     "output_type": "execute_result"
    }
   ],
   "execution_count": 5
  },
  {
   "cell_type": "code",
   "metadata": {
    "ExecuteTime": {
     "end_time": "2024-04-26T14:45:44.058399Z",
     "start_time": "2024-04-26T14:45:44.047320Z"
    }
   },
   "source": [
    "print(grossstaedte.dtypes)"
   ],
   "outputs": [
    {
     "name": "stdout",
     "output_type": "stream",
     "text": [
      "rang_2019        int64\n",
      "name            object\n",
      "ew_1939          int64\n",
      "ew_1950          int64\n",
      "ew_1960          int64\n",
      "ew_1970          int64\n",
      "ew_1980          int64\n",
      "ew_1990          int64\n",
      "ew_2000          int64\n",
      "ew_2010          int64\n",
      "ew_2018          int64\n",
      "ew_2019          int64\n",
      "flaeche_qkm    float64\n",
      "ew_qkm           int64\n",
      "gs_erstmals      int64\n",
      "bundesland      object\n",
      "dtype: object\n"
     ]
    }
   ],
   "execution_count": 6
  },
  {
   "cell_type": "code",
   "metadata": {
    "ExecuteTime": {
     "end_time": "2024-04-26T14:45:44.818402Z",
     "start_time": "2024-04-26T14:45:44.799810Z"
    }
   },
   "source": [
    "print(grossstaedte[\"name\"])"
   ],
   "outputs": [
    {
     "name": "stdout",
     "output_type": "stream",
     "text": [
      "0                Berlin\n",
      "1               Hamburg\n",
      "2               München\n",
      "3                  Köln\n",
      "4     Frankfurt am Main\n",
      "            ...        \n",
      "76                Moers\n",
      "77               Siegen\n",
      "78           Hildesheim\n",
      "79            Gütersloh\n",
      "80       Kaiserslautern\n",
      "Name: name, Length: 81, dtype: object\n"
     ]
    }
   ],
   "execution_count": 7
  },
  {
   "cell_type": "markdown",
   "metadata": {},
   "source": [
    "# 2. Scatter Plot (pyplot-API)"
   ]
  },
  {
   "cell_type": "code",
   "metadata": {
    "ExecuteTime": {
     "end_time": "2024-04-26T14:45:55.281614Z",
     "start_time": "2024-04-26T14:45:55.201045Z"
    }
   },
   "source": [
    "plt.scatter(grossstaedte[\"flaeche_qkm\"].to_numpy(),grossstaedte[\"ew_qkm\"].to_numpy())\n",
    "plt.xlabel(\"Fläche (qkm)\")\n",
    "plt.ylabel(\"Einwohner pro qkm\")\n",
    "plt.annotate(\"Berlin\", np.array([760, 4200]))\n",
    "plt.annotate(\"Hamburg\", np.array([690, 2600]))\n",
    "plt.annotate(\"Köln\", np.array([365, 2850]))\n",
    "plt.annotate(\"München\", np.array([245, 4390]))"
   ],
   "outputs": [
    {
     "data": {
      "text/plain": [
       "Text(245, 4390, 'München')"
      ]
     },
     "execution_count": 10,
     "metadata": {},
     "output_type": "execute_result"
    },
    {
     "data": {
      "text/plain": [
       "<Figure size 640x480 with 1 Axes>"
      ],
      "image/png": "[encoded data removed]"
     },
     "metadata": {},
     "output_type": "display_data"
    }
   ],
   "execution_count": 10
  },
  {
   "cell_type": "markdown",
   "metadata": {},
   "source": [
    "# 3. Säulen- und Balkendiagramm (pyplot-API)"
   ]
  },
  {
   "cell_type": "code",
   "metadata": {
    "ExecuteTime": {
     "end_time": "2024-04-26T14:45:56.968927Z",
     "start_time": "2024-04-26T14:45:56.965424Z"
    }
   },
   "source": [
    "grosse_laender = [\"Nordrhein-Westfalen\", \"Baden-Württemberg\", \"Bayern\"]\n",
    "no_gs_gl = grossstaedte[\"bundesland\"][grossstaedte[\"bundesland\"].isin(grosse_laender)].value_counts()\n",
    "print(np.array(grosse_laender))\n",
    "print(type(np.array(grosse_laender)))\n",
    "print(no_gs_gl.to_numpy())\n",
    "print(type(no_gs_gl.to_numpy()))"
   ],
   "outputs": [
    {
     "name": "stdout",
     "output_type": "stream",
     "text": [
      "['Nordrhein-Westfalen' 'Baden-Württemberg' 'Bayern']\n",
      "<class 'numpy.ndarray'>\n",
      "[30  9  8]\n",
      "<class 'numpy.ndarray'>\n"
     ]
    }
   ],
   "execution_count": 11
  },
  {
   "cell_type": "code",
   "metadata": {
    "ExecuteTime": {
     "end_time": "2024-04-26T14:45:57.652582Z",
     "start_time": "2024-04-26T14:45:57.563887Z"
    }
   },
   "source": [
    "plt.bar(np.array([\"NRW\", \"BW\", \"BY\"]), no_gs_gl.to_numpy())\n",
    "plt.title(\"Anzahl Großstädte nach Bundesländern (Säulendiagramm)\")"
   ],
   "outputs": [
    {
     "data": {
      "text/plain": [
       "Text(0.5, 1.0, 'Anzahl Großstädte nach Bundesländern (Säulendiagramm)')"
      ]
     },
     "execution_count": 12,
     "metadata": {},
     "output_type": "execute_result"
    },
    {
     "data": {
      "text/plain": [
       "<Figure size 640x480 with 1 Axes>"
      ],
      "image/png": "[encoded data removed]"
     },
     "metadata": {},
     "output_type": "display_data"
    }
   ],
   "execution_count": 12
  },
  {
   "cell_type": "code",
   "metadata": {
    "ExecuteTime": {
     "end_time": "2024-04-26T14:45:58.304407Z",
     "start_time": "2024-04-26T14:45:58.222231Z"
    }
   },
   "source": [
    "plt.barh(np.array(grosse_laender), no_gs_gl.to_numpy())\n",
    "plt.title(\"Anzahl Großstädte nach Bundesländern (Balkendiagramm)\")"
   ],
   "outputs": [
    {
     "data": {
      "text/plain": [
       "Text(0.5, 1.0, 'Anzahl Großstädte nach Bundesländern (Balkendiagramm)')"
      ]
     },
     "execution_count": 13,
     "metadata": {},
     "output_type": "execute_result"
    },
    {
     "data": {
      "text/plain": [
       "<Figure size 640x480 with 1 Axes>"
      ],
      "image/png": "[encoded data removed]"
     },
     "metadata": {},
     "output_type": "display_data"
    }
   ],
   "execution_count": 13
  },
  {
   "cell_type": "markdown",
   "metadata": {},
   "source": [
    "# 4. Box Plot (pyplot-API)"
   ]
  },
  {
   "cell_type": "code",
   "metadata": {
    "ExecuteTime": {
     "end_time": "2024-04-26T14:45:59.236162Z",
     "start_time": "2024-04-26T14:45:59.184105Z"
    }
   },
   "source": [
    "plt.boxplot(grossstaedte[\"flaeche_qkm\"].to_numpy(), vert = False)\n",
    "plt.xlabel(\"Fläche (qkm)\")"
   ],
   "outputs": [
    {
     "data": {
      "text/plain": [
       "Text(0.5, 0, 'Fläche (qkm)')"
      ]
     },
     "execution_count": 14,
     "metadata": {},
     "output_type": "execute_result"
    },
    {
     "data": {
      "text/plain": [
       "<Figure size 640x480 with 1 Axes>"
      ],
      "image/png": "[encoded data removed]"
     },
     "metadata": {},
     "output_type": "display_data"
    }
   ],
   "execution_count": 14
  },
  {
   "cell_type": "markdown",
   "metadata": {},
   "source": [
    "# 5. Lorenzkurven (objektorientierte API)"
   ]
  },
  {
   "cell_type": "code",
   "metadata": {
    "ExecuteTime": {
     "end_time": "2024-04-26T14:46:00.106068Z",
     "start_time": "2024-04-26T14:46:00.094062Z"
    }
   },
   "source": [
    "def build_lc_data (raw_data):\n",
    "    \n",
    "    sorted_data = sorted(list(raw_data))\n",
    "    \n",
    "    x = [float(0)]\n",
    "\n",
    "    for i in range(1, len(sorted_data) + 1):\n",
    "        x.append(i / len(raw_data))\n",
    "\n",
    "    normed_data = []\n",
    "    nd_sum = sum(sorted_data)\n",
    "\n",
    "    for i in range(0, len(sorted_data)):\n",
    "        normed_data.append(sorted_data[i] / nd_sum)\n",
    "\n",
    "    cumulative_normed_data = [normed_data[0]]\n",
    "\n",
    "    for i in range(1, len(normed_data)):\n",
    "        cumulative_normed_data.append(cumulative_normed_data[i-1] + normed_data[i])\n",
    "\n",
    "    y = [float(0)] + cumulative_normed_data\n",
    "    \n",
    "    return(np.array([x, y]))"
   ],
   "outputs": [],
   "execution_count": 15
  },
  {
   "cell_type": "code",
   "metadata": {
    "ExecuteTime": {
     "end_time": "2024-04-26T14:46:00.602718Z",
     "start_time": "2024-04-26T14:46:00.587702Z"
    }
   },
   "source": [
    "buli_1  = pd.read_csv(\"20240425-skba1-fussball-bl-2019-2020.csv\", sep = \",\", header = [0], decimal = \":\")\n",
    "buli_2  = pd.read_csv(\"20240425-skba1-fussball-bl2-2019-2020.csv\", sep = \",\", header = [0], decimal = \":\")"
   ],
   "outputs": [],
   "execution_count": 16
  },
  {
   "cell_type": "code",
   "metadata": {
    "scrolled": true,
    "ExecuteTime": {
     "end_time": "2024-04-26T14:46:00.992334Z",
     "start_time": "2024-04-26T14:46:00.972802Z"
    }
   },
   "source": [
    "buli_1.head()"
   ],
   "outputs": [
    {
     "data": {
      "text/plain": [
       "  Pl.                    Verein  Sp.   S   U  N    Tore Diff.  Punkte\n",
       "0  1.         FC Bayern München   34  26   4  4  100.32   +68      82\n",
       "1  2.         Borussia Dortmund   34  21   6  7   84.41   +43      69\n",
       "2  3.                RB Leipzig   34  18  12  4   81.37   +44      66\n",
       "3  4.  Borussia Mönchengladbach   34  20   5  9   66.40   +26      65\n",
       "4  5.       Bayer 04 Leverkusen   34  19   6  9   61.44   +17      63"
      ],
      "text/html": [
       "<div>\n",
       "<style scoped>\n",
       "    .dataframe tbody tr th:only-of-type {\n",
       "        vertical-align: middle;\n",
       "    }\n",
       "\n",
       "    .dataframe tbody tr th {\n",
       "        vertical-align: top;\n",
       "    }\n",
       "\n",
       "    .dataframe thead th {\n",
       "        text-align: right;\n",
       "    }\n",
       "</style>\n",
       "<table border=\"1\" class=\"dataframe\">\n",
       "  <thead>\n",
       "    <tr style=\"text-align: right;\">\n",
       "      <th></th>\n",
       "      <th>Pl.</th>\n",
       "      <th>Verein</th>\n",
       "      <th>Sp.</th>\n",
       "      <th>S</th>\n",
       "      <th>U</th>\n",
       "      <th>N</th>\n",
       "      <th>Tore</th>\n",
       "      <th>Diff.</th>\n",
       "      <th>Punkte</th>\n",
       "    </tr>\n",
       "  </thead>\n",
       "  <tbody>\n",
       "    <tr>\n",
       "      <th>0</th>\n",
       "      <td>1.</td>\n",
       "      <td>FC Bayern München</td>\n",
       "      <td>34</td>\n",
       "      <td>26</td>\n",
       "      <td>4</td>\n",
       "      <td>4</td>\n",
       "      <td>100.32</td>\n",
       "      <td>+68</td>\n",
       "      <td>82</td>\n",
       "    </tr>\n",
       "    <tr>\n",
       "      <th>1</th>\n",
       "      <td>2.</td>\n",
       "      <td>Borussia Dortmund</td>\n",
       "      <td>34</td>\n",
       "      <td>21</td>\n",
       "      <td>6</td>\n",
       "      <td>7</td>\n",
       "      <td>84.41</td>\n",
       "      <td>+43</td>\n",
       "      <td>69</td>\n",
       "    </tr>\n",
       "    <tr>\n",
       "      <th>2</th>\n",
       "      <td>3.</td>\n",
       "      <td>RB Leipzig</td>\n",
       "      <td>34</td>\n",
       "      <td>18</td>\n",
       "      <td>12</td>\n",
       "      <td>4</td>\n",
       "      <td>81.37</td>\n",
       "      <td>+44</td>\n",
       "      <td>66</td>\n",
       "    </tr>\n",
       "    <tr>\n",
       "      <th>3</th>\n",
       "      <td>4.</td>\n",
       "      <td>Borussia Mönchengladbach</td>\n",
       "      <td>34</td>\n",
       "      <td>20</td>\n",
       "      <td>5</td>\n",
       "      <td>9</td>\n",
       "      <td>66.40</td>\n",
       "      <td>+26</td>\n",
       "      <td>65</td>\n",
       "    </tr>\n",
       "    <tr>\n",
       "      <th>4</th>\n",
       "      <td>5.</td>\n",
       "      <td>Bayer 04 Leverkusen</td>\n",
       "      <td>34</td>\n",
       "      <td>19</td>\n",
       "      <td>6</td>\n",
       "      <td>9</td>\n",
       "      <td>61.44</td>\n",
       "      <td>+17</td>\n",
       "      <td>63</td>\n",
       "    </tr>\n",
       "  </tbody>\n",
       "</table>\n",
       "</div>"
      ]
     },
     "execution_count": 17,
     "metadata": {},
     "output_type": "execute_result"
    }
   ],
   "execution_count": 17
  },
  {
   "cell_type": "code",
   "metadata": {
    "ExecuteTime": {
     "end_time": "2024-04-26T14:46:02.015222Z",
     "start_time": "2024-04-26T14:46:01.997210Z"
    }
   },
   "source": [
    "buli_2.head()"
   ],
   "outputs": [
    {
     "data": {
      "text/plain": [
       "  Pl.             Verein  Sp.   S   U   N   Tore Diff.  Punkte\n",
       "0  1.  Arminia Bielefeld   34  18  14   2  65.30   +35      68\n",
       "1  2.      VfB Stuttgart   34  17   7  10  62.41   +21      58\n",
       "2  3.   1. FC Heidenheim   34  15  10   9  45.36    +9      55\n",
       "3  4.       Hamburger SV   34  14  12   8  62.46   +16      54\n",
       "4  5.    SV Darmstadt 98   34  13  13   8  48.43    +5      52"
      ],
      "text/html": [
       "<div>\n",
       "<style scoped>\n",
       "    .dataframe tbody tr th:only-of-type {\n",
       "        vertical-align: middle;\n",
       "    }\n",
       "\n",
       "    .dataframe tbody tr th {\n",
       "        vertical-align: top;\n",
       "    }\n",
       "\n",
       "    .dataframe thead th {\n",
       "        text-align: right;\n",
       "    }\n",
       "</style>\n",
       "<table border=\"1\" class=\"dataframe\">\n",
       "  <thead>\n",
       "    <tr style=\"text-align: right;\">\n",
       "      <th></th>\n",
       "      <th>Pl.</th>\n",
       "      <th>Verein</th>\n",
       "      <th>Sp.</th>\n",
       "      <th>S</th>\n",
       "      <th>U</th>\n",
       "      <th>N</th>\n",
       "      <th>Tore</th>\n",
       "      <th>Diff.</th>\n",
       "      <th>Punkte</th>\n",
       "    </tr>\n",
       "  </thead>\n",
       "  <tbody>\n",
       "    <tr>\n",
       "      <th>0</th>\n",
       "      <td>1.</td>\n",
       "      <td>Arminia Bielefeld</td>\n",
       "      <td>34</td>\n",
       "      <td>18</td>\n",
       "      <td>14</td>\n",
       "      <td>2</td>\n",
       "      <td>65.30</td>\n",
       "      <td>+35</td>\n",
       "      <td>68</td>\n",
       "    </tr>\n",
       "    <tr>\n",
       "      <th>1</th>\n",
       "      <td>2.</td>\n",
       "      <td>VfB Stuttgart</td>\n",
       "      <td>34</td>\n",
       "      <td>17</td>\n",
       "      <td>7</td>\n",
       "      <td>10</td>\n",
       "      <td>62.41</td>\n",
       "      <td>+21</td>\n",
       "      <td>58</td>\n",
       "    </tr>\n",
       "    <tr>\n",
       "      <th>2</th>\n",
       "      <td>3.</td>\n",
       "      <td>1. FC Heidenheim</td>\n",
       "      <td>34</td>\n",
       "      <td>15</td>\n",
       "      <td>10</td>\n",
       "      <td>9</td>\n",
       "      <td>45.36</td>\n",
       "      <td>+9</td>\n",
       "      <td>55</td>\n",
       "    </tr>\n",
       "    <tr>\n",
       "      <th>3</th>\n",
       "      <td>4.</td>\n",
       "      <td>Hamburger SV</td>\n",
       "      <td>34</td>\n",
       "      <td>14</td>\n",
       "      <td>12</td>\n",
       "      <td>8</td>\n",
       "      <td>62.46</td>\n",
       "      <td>+16</td>\n",
       "      <td>54</td>\n",
       "    </tr>\n",
       "    <tr>\n",
       "      <th>4</th>\n",
       "      <td>5.</td>\n",
       "      <td>SV Darmstadt 98</td>\n",
       "      <td>34</td>\n",
       "      <td>13</td>\n",
       "      <td>13</td>\n",
       "      <td>8</td>\n",
       "      <td>48.43</td>\n",
       "      <td>+5</td>\n",
       "      <td>52</td>\n",
       "    </tr>\n",
       "  </tbody>\n",
       "</table>\n",
       "</div>"
      ]
     },
     "execution_count": 18,
     "metadata": {},
     "output_type": "execute_result"
    }
   ],
   "execution_count": 18
  },
  {
   "cell_type": "code",
   "metadata": {
    "ExecuteTime": {
     "end_time": "2024-04-26T14:46:02.543203Z",
     "start_time": "2024-04-26T14:46:02.525182Z"
    }
   },
   "source": [
    "print(buli_1.dtypes)"
   ],
   "outputs": [
    {
     "name": "stdout",
     "output_type": "stream",
     "text": [
      "Pl.        object\n",
      "Verein     object\n",
      "Sp.         int64\n",
      "S           int64\n",
      "U           int64\n",
      "N           int64\n",
      "Tore      float64\n",
      "Diff.      object\n",
      "Punkte      int64\n",
      "dtype: object\n"
     ]
    }
   ],
   "execution_count": 19
  },
  {
   "cell_type": "code",
   "metadata": {
    "ExecuteTime": {
     "end_time": "2024-04-26T14:46:03.118804Z",
     "start_time": "2024-04-26T14:46:03.115799Z"
    }
   },
   "source": [
    "print(buli_2.dtypes)"
   ],
   "outputs": [
    {
     "name": "stdout",
     "output_type": "stream",
     "text": [
      "Pl.        object\n",
      "Verein     object\n",
      "Sp.         int64\n",
      "S           int64\n",
      "U           int64\n",
      "N           int64\n",
      "Tore      float64\n",
      "Diff.      object\n",
      "Punkte      int64\n",
      "dtype: object\n"
     ]
    }
   ],
   "execution_count": 20
  },
  {
   "cell_type": "code",
   "metadata": {
    "ExecuteTime": {
     "end_time": "2024-04-26T14:46:03.428749Z",
     "start_time": "2024-04-26T14:46:03.419670Z"
    }
   },
   "source": [
    "build_lc_data(buli_1[\"Punkte\"])"
   ],
   "outputs": [
    {
     "data": {
      "text/plain": [
       "array([[0.        , 0.05555556, 0.11111111, 0.16666667, 0.22222222,\n",
       "        0.27777778, 0.33333333, 0.38888889, 0.44444444, 0.5       ,\n",
       "        0.55555556, 0.61111111, 0.66666667, 0.72222222, 0.77777778,\n",
       "        0.83333333, 0.88888889, 0.94444444, 1.        ],\n",
       "       [0.        , 0.02352941, 0.05882353, 0.09529412, 0.13764706,\n",
       "        0.18      , 0.22352941, 0.26941176, 0.31764706, 0.36588235,\n",
       "        0.41882353, 0.47529412, 0.53294118, 0.59411765, 0.66823529,\n",
       "        0.74470588, 0.82235294, 0.90352941, 1.        ]])"
      ]
     },
     "execution_count": 21,
     "metadata": {},
     "output_type": "execute_result"
    }
   ],
   "execution_count": 21
  },
  {
   "cell_type": "code",
   "metadata": {
    "ExecuteTime": {
     "end_time": "2024-04-26T14:46:03.708007Z",
     "start_time": "2024-04-26T14:46:03.701507Z"
    }
   },
   "source": [
    "lc_buli_1 = build_lc_data(buli_1[\"Punkte\"])\n",
    "lc_buli_2 = build_lc_data(buli_2[\"Punkte\"])"
   ],
   "outputs": [],
   "execution_count": 22
  },
  {
   "cell_type": "code",
   "metadata": {
    "ExecuteTime": {
     "end_time": "2024-04-26T14:46:04.343279Z",
     "start_time": "2024-04-26T14:46:04.173511Z"
    }
   },
   "source": [
    "xy = np.array([0, 1])\n",
    "\n",
    "fig, lc = plt.subplots(1, 2)\n",
    "\n",
    "lc[0].set_aspect(aspect = 'equal')\n",
    "lc[1].set_aspect(aspect = 'equal')\n",
    "\n",
    "fig.set_size_inches(18, 8)\n",
    "\n",
    "lc[0].plot(lc_buli_1[0], lc_buli_1[1])\n",
    "lc[0].plot(xy, xy)\n",
    "\n",
    "lc[1].plot(lc_buli_2[0], lc_buli_2[1])\n",
    "lc[1].plot(xy, xy)\n",
    "\n",
    "lc[0].set_title('1. Bundesliga (2019/20)')\n",
    "lc[1].set_title('2. Bundesliga (2019/20)')"
   ],
   "outputs": [
    {
     "data": {
      "text/plain": [
       "Text(0.5, 1.0, '2. Bundesliga (2019/20)')"
      ]
     },
     "execution_count": 23,
     "metadata": {},
     "output_type": "execute_result"
    },
    {
     "data": {
      "text/plain": [
       "<Figure size 1800x800 with 2 Axes>"
      ],
      "image/png": "[encoded data removed]"
     },
     "metadata": {},
     "output_type": "display_data"
    }
   ],
   "execution_count": 23
  },
  {
   "metadata": {
    "ExecuteTime": {
     "end_time": "2024-04-26T14:46:04.560936Z",
     "start_time": "2024-04-26T14:46:04.557423Z"
    }
   },
   "cell_type": "code",
   "source": "",
   "outputs": [],
   "execution_count": 23
  },
  {
   "metadata": {},
   "cell_type": "code",
   "outputs": [],
   "execution_count": null,
   "source": ""
  }
 ],
 "metadata": {
  "kernelspec": {
   "display_name": "Python 3 (ipykernel)",
   "language": "python",
   "name": "python3"
  },
  "language_info": {
   "codemirror_mode": {
    "name": "ipython",
    "version": 3
   },
   "file_extension": ".py",
   "mimetype": "text/x-python",
   "name": "python",
   "nbconvert_exporter": "python",
   "pygments_lexer": "ipython3",
   "version": "3.11.2"
  }
 },
 "nbformat": 4,
 "nbformat_minor": 4
}
